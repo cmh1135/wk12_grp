{
 "cells": [
  {
   "cell_type": "markdown",
   "id": "e2f29fff",
   "metadata": {},
   "source": [
    "## 1. Write a lambda function to rearrange positive and negative numbers in agiven list\n",
    "\n",
    "Sample output:\n",
    "\n",
    "original_list = [-1,2,-3,4,-5,6,-7,8,-9,10,-11,12]\n",
    "\n",
    "resulting_list = [2,4,6,8,10,12,-11,-9,-7,-5,-3,-1]"
   ]
  },
  {
   "cell_type": "code",
   "execution_count": 1,
   "id": "f780ffbb",
   "metadata": {},
   "outputs": [],
   "source": [
    "#or_list= [-1,2,-3,4,-5,6,-7,8,-9,10,-11,12]\n",
    "\n",
    "#rearrange_numbers = lambda or_list: [x for x in or_list if x >= 0] + [x for x in or_list if x < 0]\n",
    "#resulting_list=rearrange_numbers(or_list)\n",
    "#print(resulting_list)"
   ]
  },
  {
   "cell_type": "code",
   "execution_count": 2,
   "id": "c642203a",
   "metadata": {},
   "outputs": [
    {
     "name": "stdout",
     "output_type": "stream",
     "text": [
      "[2, 4, 6, 8, 10, 12, -11, -9, -7, -5, -3, -1]\n"
     ]
    }
   ],
   "source": [
    "original_list = [-1,2,-3,4,-5,6,-7,8,-9,10,-11,12]\n",
    "\n",
    "resulting_list=list(filter(lambda x: x>0, original_list)) + sorted(list(filter(lambda x: x<0, original_list)))\n",
    "\n",
    "print(resulting_list)"
   ]
  },
  {
   "cell_type": "markdown",
   "id": "35c02c3c",
   "metadata": {},
   "source": [
    "## 2. Create a new dataframe using week_11/temperatures/temperature.csv file"
   ]
  },
  {
   "cell_type": "code",
   "execution_count": 3,
   "id": "f22dbc5b",
   "metadata": {},
   "outputs": [
    {
     "data": {
      "text/html": [
       "<div>\n",
       "<style scoped>\n",
       "    .dataframe tbody tr th:only-of-type {\n",
       "        vertical-align: middle;\n",
       "    }\n",
       "\n",
       "    .dataframe tbody tr th {\n",
       "        vertical-align: top;\n",
       "    }\n",
       "\n",
       "    .dataframe thead th {\n",
       "        text-align: right;\n",
       "    }\n",
       "</style>\n",
       "<table border=\"1\" class=\"dataframe\">\n",
       "  <thead>\n",
       "    <tr style=\"text-align: right;\">\n",
       "      <th></th>\n",
       "      <th>datetime</th>\n",
       "      <th>Vancouver</th>\n",
       "      <th>Portland</th>\n",
       "      <th>San Francisco</th>\n",
       "      <th>Seattle</th>\n",
       "      <th>Los Angeles</th>\n",
       "      <th>San Diego</th>\n",
       "      <th>Las Vegas</th>\n",
       "      <th>Phoenix</th>\n",
       "      <th>Albuquerque</th>\n",
       "      <th>...</th>\n",
       "      <th>Philadelphia</th>\n",
       "      <th>New York</th>\n",
       "      <th>Montreal</th>\n",
       "      <th>Boston</th>\n",
       "      <th>Beersheba</th>\n",
       "      <th>Tel Aviv District</th>\n",
       "      <th>Eilat</th>\n",
       "      <th>Haifa</th>\n",
       "      <th>Nahariyya</th>\n",
       "      <th>Jerusalem</th>\n",
       "    </tr>\n",
       "  </thead>\n",
       "  <tbody>\n",
       "    <tr>\n",
       "      <th>0</th>\n",
       "      <td>10/1/2012 12:00</td>\n",
       "      <td>NaN</td>\n",
       "      <td>NaN</td>\n",
       "      <td>NaN</td>\n",
       "      <td>NaN</td>\n",
       "      <td>NaN</td>\n",
       "      <td>NaN</td>\n",
       "      <td>NaN</td>\n",
       "      <td>NaN</td>\n",
       "      <td>NaN</td>\n",
       "      <td>...</td>\n",
       "      <td>NaN</td>\n",
       "      <td>NaN</td>\n",
       "      <td>NaN</td>\n",
       "      <td>NaN</td>\n",
       "      <td>NaN</td>\n",
       "      <td>NaN</td>\n",
       "      <td>309.100000</td>\n",
       "      <td>NaN</td>\n",
       "      <td>NaN</td>\n",
       "      <td>NaN</td>\n",
       "    </tr>\n",
       "    <tr>\n",
       "      <th>1</th>\n",
       "      <td>10/1/2012 13:00</td>\n",
       "      <td>284.630000</td>\n",
       "      <td>282.080000</td>\n",
       "      <td>289.480000</td>\n",
       "      <td>281.800000</td>\n",
       "      <td>291.870000</td>\n",
       "      <td>291.530000</td>\n",
       "      <td>293.410000</td>\n",
       "      <td>296.600000</td>\n",
       "      <td>285.120000</td>\n",
       "      <td>...</td>\n",
       "      <td>285.630000</td>\n",
       "      <td>288.220000</td>\n",
       "      <td>285.830000</td>\n",
       "      <td>287.170000</td>\n",
       "      <td>307.590000</td>\n",
       "      <td>305.470000</td>\n",
       "      <td>310.580000</td>\n",
       "      <td>304.4</td>\n",
       "      <td>304.4</td>\n",
       "      <td>303.5</td>\n",
       "    </tr>\n",
       "    <tr>\n",
       "      <th>2</th>\n",
       "      <td>10/1/2012 14:00</td>\n",
       "      <td>284.629041</td>\n",
       "      <td>282.083252</td>\n",
       "      <td>289.474993</td>\n",
       "      <td>281.797217</td>\n",
       "      <td>291.868185</td>\n",
       "      <td>291.533501</td>\n",
       "      <td>293.403141</td>\n",
       "      <td>296.608509</td>\n",
       "      <td>285.154558</td>\n",
       "      <td>...</td>\n",
       "      <td>285.663208</td>\n",
       "      <td>288.247676</td>\n",
       "      <td>285.834650</td>\n",
       "      <td>287.186092</td>\n",
       "      <td>307.590000</td>\n",
       "      <td>304.310000</td>\n",
       "      <td>310.495769</td>\n",
       "      <td>304.4</td>\n",
       "      <td>304.4</td>\n",
       "      <td>303.5</td>\n",
       "    </tr>\n",
       "    <tr>\n",
       "      <th>3</th>\n",
       "      <td>10/1/2012 15:00</td>\n",
       "      <td>284.626998</td>\n",
       "      <td>282.091866</td>\n",
       "      <td>289.460618</td>\n",
       "      <td>281.789833</td>\n",
       "      <td>291.862844</td>\n",
       "      <td>291.543355</td>\n",
       "      <td>293.392177</td>\n",
       "      <td>296.631487</td>\n",
       "      <td>285.233952</td>\n",
       "      <td>...</td>\n",
       "      <td>285.756824</td>\n",
       "      <td>288.326940</td>\n",
       "      <td>285.847789</td>\n",
       "      <td>287.231672</td>\n",
       "      <td>307.391513</td>\n",
       "      <td>304.281841</td>\n",
       "      <td>310.411539</td>\n",
       "      <td>304.4</td>\n",
       "      <td>304.4</td>\n",
       "      <td>303.5</td>\n",
       "    </tr>\n",
       "    <tr>\n",
       "      <th>4</th>\n",
       "      <td>10/1/2012 16:00</td>\n",
       "      <td>284.624955</td>\n",
       "      <td>282.100481</td>\n",
       "      <td>289.446243</td>\n",
       "      <td>281.782449</td>\n",
       "      <td>291.857503</td>\n",
       "      <td>291.553209</td>\n",
       "      <td>293.381213</td>\n",
       "      <td>296.654466</td>\n",
       "      <td>285.313345</td>\n",
       "      <td>...</td>\n",
       "      <td>285.850440</td>\n",
       "      <td>288.406203</td>\n",
       "      <td>285.860929</td>\n",
       "      <td>287.277251</td>\n",
       "      <td>307.145200</td>\n",
       "      <td>304.238015</td>\n",
       "      <td>310.327308</td>\n",
       "      <td>304.4</td>\n",
       "      <td>304.4</td>\n",
       "      <td>303.5</td>\n",
       "    </tr>\n",
       "  </tbody>\n",
       "</table>\n",
       "<p>5 rows × 37 columns</p>\n",
       "</div>"
      ],
      "text/plain": [
       "          datetime   Vancouver    Portland  San Francisco     Seattle  \\\n",
       "0  10/1/2012 12:00         NaN         NaN            NaN         NaN   \n",
       "1  10/1/2012 13:00  284.630000  282.080000     289.480000  281.800000   \n",
       "2  10/1/2012 14:00  284.629041  282.083252     289.474993  281.797217   \n",
       "3  10/1/2012 15:00  284.626998  282.091866     289.460618  281.789833   \n",
       "4  10/1/2012 16:00  284.624955  282.100481     289.446243  281.782449   \n",
       "\n",
       "   Los Angeles   San Diego   Las Vegas     Phoenix  Albuquerque  ...  \\\n",
       "0          NaN         NaN         NaN         NaN          NaN  ...   \n",
       "1   291.870000  291.530000  293.410000  296.600000   285.120000  ...   \n",
       "2   291.868185  291.533501  293.403141  296.608509   285.154558  ...   \n",
       "3   291.862844  291.543355  293.392177  296.631487   285.233952  ...   \n",
       "4   291.857503  291.553209  293.381213  296.654466   285.313345  ...   \n",
       "\n",
       "   Philadelphia    New York    Montreal      Boston   Beersheba  \\\n",
       "0           NaN         NaN         NaN         NaN         NaN   \n",
       "1    285.630000  288.220000  285.830000  287.170000  307.590000   \n",
       "2    285.663208  288.247676  285.834650  287.186092  307.590000   \n",
       "3    285.756824  288.326940  285.847789  287.231672  307.391513   \n",
       "4    285.850440  288.406203  285.860929  287.277251  307.145200   \n",
       "\n",
       "   Tel Aviv District       Eilat  Haifa  Nahariyya  Jerusalem  \n",
       "0                NaN  309.100000    NaN        NaN        NaN  \n",
       "1         305.470000  310.580000  304.4      304.4      303.5  \n",
       "2         304.310000  310.495769  304.4      304.4      303.5  \n",
       "3         304.281841  310.411539  304.4      304.4      303.5  \n",
       "4         304.238015  310.327308  304.4      304.4      303.5  \n",
       "\n",
       "[5 rows x 37 columns]"
      ]
     },
     "execution_count": 3,
     "metadata": {},
     "output_type": "execute_result"
    }
   ],
   "source": [
    "import numpy as np\n",
    "import pandas as pd\n",
    "import matplotlib.pyplot as plt\n",
    "import seaborn as sns\n",
    "\n",
    "temp_df=pd.read_csv('temperature.csv')\n",
    "temp_df.head()"
   ]
  },
  {
   "cell_type": "markdown",
   "id": "dfc17e58",
   "metadata": {},
   "source": [
    "It should have the datetime column and one of the cities."
   ]
  },
  {
   "cell_type": "code",
   "execution_count": 4,
   "id": "cffa0801",
   "metadata": {},
   "outputs": [],
   "source": [
    "temp_df[\"datetime\"]=pd.to_datetime(temp_df[\"datetime\"]) #parse date\n",
    "temp_df2=temp_df.filter([\"datetime\", 'Montreal'], axis=1)#isolate city and datetime col\n",
    "temp_df2.dropna(inplace=True) #drop NAN"
   ]
  },
  {
   "cell_type": "markdown",
   "id": "141fac38",
   "metadata": {},
   "source": [
    "Create a new boolean column called is_freezing that indicates if the temperature is at or below freezing."
   ]
  },
  {
   "cell_type": "code",
   "execution_count": 5,
   "id": "32f710a5",
   "metadata": {},
   "outputs": [],
   "source": [
    "temp_df2['is_freezing']=temp_df2['is_freezing']=temp_df2.apply(lambda x: x['Montreal']<=273.15,axis=1) #map freezing temp condition to Montreal col"
   ]
  },
  {
   "cell_type": "code",
   "execution_count": 6,
   "id": "e7c93d8e",
   "metadata": {},
   "outputs": [
    {
     "data": {
      "text/html": [
       "<div>\n",
       "<style scoped>\n",
       "    .dataframe tbody tr th:only-of-type {\n",
       "        vertical-align: middle;\n",
       "    }\n",
       "\n",
       "    .dataframe tbody tr th {\n",
       "        vertical-align: top;\n",
       "    }\n",
       "\n",
       "    .dataframe thead th {\n",
       "        text-align: right;\n",
       "    }\n",
       "</style>\n",
       "<table border=\"1\" class=\"dataframe\">\n",
       "  <thead>\n",
       "    <tr style=\"text-align: right;\">\n",
       "      <th></th>\n",
       "      <th>datetime</th>\n",
       "      <th>Montreal</th>\n",
       "      <th>is_freezing</th>\n",
       "    </tr>\n",
       "  </thead>\n",
       "  <tbody>\n",
       "    <tr>\n",
       "      <th>45248</th>\n",
       "      <td>2017-11-29 20:00:00</td>\n",
       "      <td>275.13</td>\n",
       "      <td>False</td>\n",
       "    </tr>\n",
       "    <tr>\n",
       "      <th>45249</th>\n",
       "      <td>2017-11-29 21:00:00</td>\n",
       "      <td>274.13</td>\n",
       "      <td>False</td>\n",
       "    </tr>\n",
       "    <tr>\n",
       "      <th>45250</th>\n",
       "      <td>2017-11-29 22:00:00</td>\n",
       "      <td>273.48</td>\n",
       "      <td>False</td>\n",
       "    </tr>\n",
       "    <tr>\n",
       "      <th>45251</th>\n",
       "      <td>2017-11-29 23:00:00</td>\n",
       "      <td>272.48</td>\n",
       "      <td>True</td>\n",
       "    </tr>\n",
       "    <tr>\n",
       "      <th>45252</th>\n",
       "      <td>2017-11-30 00:00:00</td>\n",
       "      <td>271.80</td>\n",
       "      <td>True</td>\n",
       "    </tr>\n",
       "  </tbody>\n",
       "</table>\n",
       "</div>"
      ],
      "text/plain": [
       "                 datetime  Montreal  is_freezing\n",
       "45248 2017-11-29 20:00:00    275.13        False\n",
       "45249 2017-11-29 21:00:00    274.13        False\n",
       "45250 2017-11-29 22:00:00    273.48        False\n",
       "45251 2017-11-29 23:00:00    272.48         True\n",
       "45252 2017-11-30 00:00:00    271.80         True"
      ]
     },
     "execution_count": 6,
     "metadata": {},
     "output_type": "execute_result"
    }
   ],
   "source": [
    "temp_df2.tail() #print end"
   ]
  },
  {
   "cell_type": "code",
   "execution_count": 7,
   "id": "2e47cd33",
   "metadata": {},
   "outputs": [
    {
     "data": {
      "text/plain": [
       "False    32284\n",
       "True     12966\n",
       "Name: is_freezing, dtype: int64"
      ]
     },
     "execution_count": 7,
     "metadata": {},
     "output_type": "execute_result"
    }
   ],
   "source": [
    "temp_df2['is_freezing'].value_counts() #num of dates temp was freezing (True)"
   ]
  },
  {
   "cell_type": "code",
   "execution_count": 14,
   "id": "0c9b7811",
   "metadata": {},
   "outputs": [
    {
     "name": "stdout",
     "output_type": "stream",
     "text": [
      " lambda functon ran in 1.4189 seconds\n"
     ]
    }
   ],
   "source": [
    "import time\n",
    "tic=time.perf_counter() #basic timer start \n",
    "temp_df2['is_freezing']=temp_df2.apply(lambda x: x['Montreal']<=273.15,axis=1)\n",
    "toc=time.perf_counter()#timer stop\n",
    "print(f\" lambda functon ran in {toc-tic:0.4f} seconds\") #calc start-stop for runtime format 4 decimal places"
   ]
  },
  {
   "cell_type": "code",
   "execution_count": 12,
   "id": "a4e4f0a7",
   "metadata": {},
   "outputs": [
    {
     "data": {
      "text/html": [
       "<div>\n",
       "<style scoped>\n",
       "    .dataframe tbody tr th:only-of-type {\n",
       "        vertical-align: middle;\n",
       "    }\n",
       "\n",
       "    .dataframe tbody tr th {\n",
       "        vertical-align: top;\n",
       "    }\n",
       "\n",
       "    .dataframe thead th {\n",
       "        text-align: right;\n",
       "    }\n",
       "</style>\n",
       "<table border=\"1\" class=\"dataframe\">\n",
       "  <thead>\n",
       "    <tr style=\"text-align: right;\">\n",
       "      <th></th>\n",
       "      <th>datetime</th>\n",
       "      <th>Montreal</th>\n",
       "      <th>is_freezing</th>\n",
       "    </tr>\n",
       "  </thead>\n",
       "  <tbody>\n",
       "    <tr>\n",
       "      <th>45248</th>\n",
       "      <td>2017-11-29 20:00:00</td>\n",
       "      <td>275.13</td>\n",
       "      <td>False</td>\n",
       "    </tr>\n",
       "    <tr>\n",
       "      <th>45249</th>\n",
       "      <td>2017-11-29 21:00:00</td>\n",
       "      <td>274.13</td>\n",
       "      <td>False</td>\n",
       "    </tr>\n",
       "    <tr>\n",
       "      <th>45250</th>\n",
       "      <td>2017-11-29 22:00:00</td>\n",
       "      <td>273.48</td>\n",
       "      <td>False</td>\n",
       "    </tr>\n",
       "    <tr>\n",
       "      <th>45251</th>\n",
       "      <td>2017-11-29 23:00:00</td>\n",
       "      <td>272.48</td>\n",
       "      <td>True</td>\n",
       "    </tr>\n",
       "    <tr>\n",
       "      <th>45252</th>\n",
       "      <td>2017-11-30 00:00:00</td>\n",
       "      <td>271.80</td>\n",
       "      <td>True</td>\n",
       "    </tr>\n",
       "  </tbody>\n",
       "</table>\n",
       "</div>"
      ],
      "text/plain": [
       "                 datetime  Montreal  is_freezing\n",
       "45248 2017-11-29 20:00:00    275.13        False\n",
       "45249 2017-11-29 21:00:00    274.13        False\n",
       "45250 2017-11-29 22:00:00    273.48        False\n",
       "45251 2017-11-29 23:00:00    272.48         True\n",
       "45252 2017-11-30 00:00:00    271.80         True"
      ]
     },
     "execution_count": 12,
     "metadata": {},
     "output_type": "execute_result"
    }
   ],
   "source": [
    "temp_df3=temp_df2.copy()#copy df \n",
    "boolean_col = (temp_df3['Montreal']<=273.15)#expression for new col with temp condition \n",
    "temp_df3['is_freezing'] = boolean_col #create new col\n",
    "temp_df3.tail()"
   ]
  },
  {
   "cell_type": "code",
   "execution_count": 10,
   "id": "b027d830",
   "metadata": {},
   "outputs": [
    {
     "data": {
      "text/plain": [
       "False    32284\n",
       "True     12966\n",
       "Name: is_freezing, dtype: int64"
      ]
     },
     "execution_count": 10,
     "metadata": {},
     "output_type": "execute_result"
    }
   ],
   "source": [
    "temp_df3['is_freezing'].value_counts() #verify data is correct and matches lambda results"
   ]
  },
  {
   "cell_type": "markdown",
   "id": "ac71299c",
   "metadata": {},
   "source": [
    "Is there a better way to do this than with a lambda?"
   ]
  },
  {
   "cell_type": "markdown",
   "id": "61daa13e",
   "metadata": {},
   "source": [
    "The second function runs quicker than the lambda function "
   ]
  },
  {
   "cell_type": "code",
   "execution_count": 11,
   "id": "bd942f9c",
   "metadata": {},
   "outputs": [
    {
     "name": "stdout",
     "output_type": "stream",
     "text": [
      " bool expression ran in 0.0024 seconds\n"
     ]
    }
   ],
   "source": [
    "#time new function \n",
    "tic=time.perf_counter()\n",
    "temp_df3['is_freezing'] = (temp_df3['Montreal']<=273.15)\n",
    "toc=time.perf_counter()\n",
    "print(f\" bool expression ran in {toc-tic:0.4f} seconds\")"
   ]
  },
  {
   "cell_type": "markdown",
   "id": "e69cfa4d",
   "metadata": {},
   "source": [
    "## BONUS: if you still have time, try to do a pivot of the data in question 2 so you have the hourly data for all the cities and a flag for if it's freezing."
   ]
  },
  {
   "cell_type": "code",
   "execution_count": null,
   "id": "c78e38cc",
   "metadata": {},
   "outputs": [],
   "source": []
  }
 ],
 "metadata": {
  "kernelspec": {
   "display_name": "Python 3 (ipykernel)",
   "language": "python",
   "name": "python3"
  },
  "language_info": {
   "codemirror_mode": {
    "name": "ipython",
    "version": 3
   },
   "file_extension": ".py",
   "mimetype": "text/x-python",
   "name": "python",
   "nbconvert_exporter": "python",
   "pygments_lexer": "ipython3",
   "version": "3.9.7"
  }
 },
 "nbformat": 4,
 "nbformat_minor": 5
}
